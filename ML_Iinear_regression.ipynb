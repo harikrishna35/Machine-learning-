{
  "nbformat": 4,
  "nbformat_minor": 0,
  "metadata": {
    "colab": {
      "name": "ML_Iinear_regression.ipynb",
      "provenance": [],
      "collapsed_sections": [],
      "authorship_tag": "ABX9TyPHAepQxPyEyFErB3mea/T1",
      "include_colab_link": true
    },
    "kernelspec": {
      "name": "python3",
      "display_name": "Python 3"
    },
    "language_info": {
      "name": "python"
    }
  },
  "cells": [
    {
      "cell_type": "markdown",
      "metadata": {
        "id": "view-in-github",
        "colab_type": "text"
      },
      "source": [
        "<a href=\"https://colab.research.google.com/github/harikrishna35/data-Analysis/blob/main/ML_Iinear_regression.ipynb\" target=\"_parent\"><img src=\"https://colab.research.google.com/assets/colab-badge.svg\" alt=\"Open In Colab\"/></a>"
      ]
    },
    {
      "cell_type": "markdown",
      "metadata": {
        "id": "vbEpjFMCEQhR"
      },
      "source": [
        "USING LINEAR_REGRESSION ON SALARY DATA"
      ]
    },
    {
      "cell_type": "code",
      "metadata": {
        "id": "MGkoA8YVEPTm"
      },
      "source": [
        "import numpy as np\n",
        "import pandas as pd \n",
        "import matplotlib.pyplot as plt"
      ],
      "execution_count": null,
      "outputs": []
    },
    {
      "cell_type": "code",
      "metadata": {
        "colab": {
          "base_uri": "https://localhost:8080/",
          "height": 221
        },
        "id": "bMTACo7aFPJs",
        "outputId": "de849066-b3b8-4b38-e7ed-54e19a9a1ead"
      },
      "source": [
        "sales_data=pd.read_csv(\"/content/Salary_Data.csv\")\n",
        "print(sales_data.shape)\n",
        "sales_data.head()\n"
      ],
      "execution_count": null,
      "outputs": [
        {
          "output_type": "stream",
          "name": "stdout",
          "text": [
            "(30, 2)\n"
          ]
        },
        {
          "output_type": "execute_result",
          "data": {
            "text/html": [
              "<div>\n",
              "<style scoped>\n",
              "    .dataframe tbody tr th:only-of-type {\n",
              "        vertical-align: middle;\n",
              "    }\n",
              "\n",
              "    .dataframe tbody tr th {\n",
              "        vertical-align: top;\n",
              "    }\n",
              "\n",
              "    .dataframe thead th {\n",
              "        text-align: right;\n",
              "    }\n",
              "</style>\n",
              "<table border=\"1\" class=\"dataframe\">\n",
              "  <thead>\n",
              "    <tr style=\"text-align: right;\">\n",
              "      <th></th>\n",
              "      <th>YearsExperience</th>\n",
              "      <th>Salary</th>\n",
              "    </tr>\n",
              "  </thead>\n",
              "  <tbody>\n",
              "    <tr>\n",
              "      <th>0</th>\n",
              "      <td>1.1</td>\n",
              "      <td>39343.0</td>\n",
              "    </tr>\n",
              "    <tr>\n",
              "      <th>1</th>\n",
              "      <td>1.3</td>\n",
              "      <td>46205.0</td>\n",
              "    </tr>\n",
              "    <tr>\n",
              "      <th>2</th>\n",
              "      <td>1.5</td>\n",
              "      <td>37731.0</td>\n",
              "    </tr>\n",
              "    <tr>\n",
              "      <th>3</th>\n",
              "      <td>2.0</td>\n",
              "      <td>43525.0</td>\n",
              "    </tr>\n",
              "    <tr>\n",
              "      <th>4</th>\n",
              "      <td>2.2</td>\n",
              "      <td>39891.0</td>\n",
              "    </tr>\n",
              "  </tbody>\n",
              "</table>\n",
              "</div>"
            ],
            "text/plain": [
              "   YearsExperience   Salary\n",
              "0              1.1  39343.0\n",
              "1              1.3  46205.0\n",
              "2              1.5  37731.0\n",
              "3              2.0  43525.0\n",
              "4              2.2  39891.0"
            ]
          },
          "metadata": {},
          "execution_count": 4
        }
      ]
    },
    {
      "cell_type": "code",
      "metadata": {
        "colab": {
          "base_uri": "https://localhost:8080/"
        },
        "id": "1UXqAnXWFwUl",
        "outputId": "1d1401ae-a2a1-4f0d-f830-cec371954be7"
      },
      "source": [
        "sales_data.dtypes"
      ],
      "execution_count": null,
      "outputs": [
        {
          "output_type": "execute_result",
          "data": {
            "text/plain": [
              "YearsExperience    float64\n",
              "Salary             float64\n",
              "dtype: object"
            ]
          },
          "metadata": {},
          "execution_count": 5
        }
      ]
    },
    {
      "cell_type": "markdown",
      "metadata": {
        "id": "IipgIv4KGn3E"
      },
      "source": [
        "x = independent variable\n",
        "y= dependent variable "
      ]
    },
    {
      "cell_type": "code",
      "metadata": {
        "colab": {
          "base_uri": "https://localhost:8080/"
        },
        "id": "qy__PNyxF1dI",
        "outputId": "8bf6812c-e8ff-4e55-e66c-a844097a35b2"
      },
      "source": [
        "x=sales_data[\"YearsExperience\"].values\n",
        "y=sales_data[\"Salary\"].values\n",
        "print(x,y,sep='\\n')"
      ],
      "execution_count": null,
      "outputs": [
        {
          "output_type": "stream",
          "name": "stdout",
          "text": [
            "[ 1.1  1.3  1.5  2.   2.2  2.9  3.   3.2  3.2  3.7  3.9  4.   4.   4.1\n",
            "  4.5  4.9  5.1  5.3  5.9  6.   6.8  7.1  7.9  8.2  8.7  9.   9.5  9.6\n",
            " 10.3 10.5]\n",
            "[ 39343.  46205.  37731.  43525.  39891.  56642.  60150.  54445.  64445.\n",
            "  57189.  63218.  55794.  56957.  57081.  61111.  67938.  66029.  83088.\n",
            "  81363.  93940.  91738.  98273. 101302. 113812. 109431. 105582. 116969.\n",
            " 112635. 122391. 121872.]\n"
          ]
        }
      ]
    },
    {
      "cell_type": "markdown",
      "metadata": {
        "id": "xID6wrOzG-lZ"
      },
      "source": [
        "SPLIT INTO TRAIN AND TEST MODEL"
      ]
    },
    {
      "cell_type": "code",
      "metadata": {
        "id": "aUg31F-RG4LI"
      },
      "source": [
        "from sklearn.model_selection import train_test_split\n",
        "train_x,test_x,train_y,test_y = train_test_split(x,y,\n",
        "                                                 test_size = 0.2,\n",
        "                                                 random_state = 2021)"
      ],
      "execution_count": null,
      "outputs": []
    },
    {
      "cell_type": "code",
      "metadata": {
        "colab": {
          "base_uri": "https://localhost:8080/"
        },
        "id": "89qgvLPtHRd9",
        "outputId": "3de441a8-b204-4179-b040-b67234052d94"
      },
      "source": [
        "print(test_x.shape)\n",
        "print(train_x.shape)"
      ],
      "execution_count": null,
      "outputs": [
        {
          "output_type": "stream",
          "name": "stdout",
          "text": [
            "(6,)\n",
            "(24,)\n"
          ]
        }
      ]
    },
    {
      "cell_type": "markdown",
      "metadata": {
        "id": "DXYyOZb1H5xa"
      },
      "source": [
        "reshaping into 2D model"
      ]
    },
    {
      "cell_type": "code",
      "metadata": {
        "id": "TCufAJPiHRcO"
      },
      "source": [
        "train_x = np.reshape(train_x,(-1,1))\n",
        "test_x = np.reshape(test_x,(-1,1))\n",
        "train_y = np.reshape(train_y,(-1,1))\n",
        "test_y = np.reshape(test_y,(-1,1))"
      ],
      "execution_count": null,
      "outputs": []
    },
    {
      "cell_type": "code",
      "metadata": {
        "colab": {
          "base_uri": "https://localhost:8080/"
        },
        "id": "3Y7c4cTfHxNa",
        "outputId": "e2d2f811-100e-402d-8577-aa14a4b03650"
      },
      "source": [
        "print(test_x.shape)\n",
        "print(train_x.shape)\n",
        "print(test_y.shape)\n",
        "print(train_y.shape)"
      ],
      "execution_count": null,
      "outputs": [
        {
          "output_type": "stream",
          "name": "stdout",
          "text": [
            "(6, 1)\n",
            "(24, 1)\n",
            "(6, 1)\n",
            "(24, 1)\n"
          ]
        }
      ]
    },
    {
      "cell_type": "markdown",
      "metadata": {
        "id": "r-lA1RZ_H_2k"
      },
      "source": [
        "TRAINING THE MODEL"
      ]
    },
    {
      "cell_type": "code",
      "metadata": {
        "colab": {
          "base_uri": "https://localhost:8080/"
        },
        "id": "Wy7lHGo-IKUw",
        "outputId": "f6c6d8f4-e2c4-494d-a2b3-5b23c900a867"
      },
      "source": [
        "from sklearn.linear_model import LinearRegression\n",
        "regressor = LinearRegression()\n",
        "#fit the model \n",
        "regressor.fit(train_x,train_y)\n",
        "print(regressor.coef_)        #B1X\n",
        "print(regressor.intercept_)   #B0"
      ],
      "execution_count": null,
      "outputs": [
        {
          "output_type": "stream",
          "name": "stdout",
          "text": [
            "[[9330.50863322]]\n",
            "[27049.4200083]\n"
          ]
        }
      ]
    },
    {
      "cell_type": "markdown",
      "metadata": {
        "id": "eMwvd_NnIhyI"
      },
      "source": [
        "PREDIT THE MODEL"
      ]
    },
    {
      "cell_type": "code",
      "metadata": {
        "colab": {
          "base_uri": "https://localhost:8080/"
        },
        "id": "aQD6T9N5IkkZ",
        "outputId": "4b5145e1-5bf2-40c1-d49b-88c613cecd3a"
      },
      "source": [
        "pred_y = regressor.predict(test_x)\n",
        "for i in range(0,len(pred_y)):\n",
        "  print(\"Predicted: \",pred_y[i],\" and Actual: \",test_y[i])"
      ],
      "execution_count": null,
      "outputs": [
        {
          "output_type": "stream",
          "name": "stdout",
          "text": [
            "Predicted:  [72768.91231106]  and Actual:  [67938.]\n",
            "Predicted:  [82099.42094428]  and Actual:  [81363.]\n",
            "Predicted:  [64371.45454116]  and Actual:  [55794.]\n",
            "Predicted:  [47576.53900137]  and Actual:  [39891.]\n",
            "Predicted:  [61572.3019512]  and Actual:  [57189.]\n",
            "Predicted:  [56907.04763459]  and Actual:  [64445.]\n"
          ]
        }
      ]
    },
    {
      "cell_type": "code",
      "metadata": {
        "colab": {
          "base_uri": "https://localhost:8080/",
          "height": 296
        },
        "id": "HeqhpC08I7X_",
        "outputId": "50d968c9-4fb5-4f7f-840a-9796b17d55e1"
      },
      "source": [
        "plt.scatter(x,y,color='darkred')\n",
        "plt.xlabel('Years_Experience')\n",
        "plt.ylabel('Salary')\n",
        "plt.title(\"actual plot\")\n",
        "plt.show()"
      ],
      "execution_count": null,
      "outputs": [
        {
          "output_type": "display_data",
          "data": {
            "image/png": "[encoded data removed]",
            "text/plain": [
              "<Figure size 432x288 with 1 Axes>"
            ]
          },
          "metadata": {
            "needs_background": "light"
          }
        }
      ]
    },
    {
      "cell_type": "code",
      "metadata": {
        "colab": {
          "base_uri": "https://localhost:8080/",
          "height": 296
        },
        "id": "ZxHjZLrGJj4u",
        "outputId": "c20d0fab-9e9b-46b7-9bf9-d9277cfdc8d1"
      },
      "source": [
        "plt.scatter(train_x,train_y,color='darkred')\n",
        "plt.plot(train_x,regressor.predict(train_x),color='blue')\n",
        "plt.xlabel('Years_Experience')\n",
        "plt.ylabel('Salary')\n",
        "plt.title('linear regression')\n",
        "plt.show()"
      ],
      "execution_count": null,
      "outputs": [
        {
          "output_type": "display_data",
          "data": {
            "image/png": "[encoded data removed]",
            "text/plain": [
              "<Figure size 432x288 with 1 Axes>"
            ]
          },
          "metadata": {
            "needs_background": "light"
          }
        }
      ]
    },
    {
      "cell_type": "markdown",
      "metadata": {
        "id": "tn39i6miKNR4"
      },
      "source": [
        "r_squared ranges from 0 t0 1\n",
        "0 if worst predict\n",
        "1 is best predict"
      ]
    },
    {
      "cell_type": "code",
      "metadata": {
        "colab": {
          "base_uri": "https://localhost:8080/"
        },
        "id": "KySQUzQ2J5Bj",
        "outputId": "b783f935-aec3-4482-ebaa-7ab0610ca415"
      },
      "source": [
        "x = np.reshape(x,(-1,1))\n",
        "y = np.reshape(y,(-1,1))\n",
        "r_squared = regressor.score(x,y)\n",
        "print(r_squared)"
      ],
      "execution_count": null,
      "outputs": [
        {
          "output_type": "stream",
          "name": "stdout",
          "text": [
            "0.9562703287803034\n"
          ]
        }
      ]
    }
  ]
}